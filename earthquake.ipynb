{
 "cells": [
  {
   "cell_type": "code",
   "execution_count": 4,
   "metadata": {},
   "outputs": [],
   "source": [
    "import requests as rq\n",
    "import json\n",
    "import os"
   ]
  },
  {
   "cell_type": "code",
   "execution_count": 19,
   "metadata": {},
   "outputs": [
    {
     "name": "stdout",
     "output_type": "stream",
     "text": [
      "11/01-16:30臺灣東部海域發生規模5.7有感地震，最大震度宜蘭縣南澳、花蓮縣西寶3級。\n",
      "11/01-13:43臺東縣近海發生規模4.4有感地震，最大震度臺東縣長濱3級。\n",
      "10/31-16:48臺東縣東河鄉發生規模5.0有感地震，最大震度臺東縣鹿野、臺東縣臺東市4級。\n",
      "10/28-23:30臺灣東部海域發生規模5.1有感地震，最大震度宜蘭縣南澳、桃園市三光、花蓮縣西寶、桃園市3級。\n",
      "10/27-17:35臺東縣池上鄉發生規模4.2有感地震，最大震度臺東縣海端3級。\n",
      "10/22-12:38花蓮縣卓溪鄉發生規模4.5有感地震，最大震度花蓮縣富里、臺東縣長濱、南投縣玉山3級。\n",
      "10/13-20:58花蓮縣近海發生規模4.4有感地震，最大震度花蓮縣磯崎4級。\n",
      "10/11-03:24臺灣東部海域發生規模5.9有感地震，最大震度花蓮縣和平、宜蘭縣宜蘭市4級。\n",
      "10/10-20:17花蓮縣近海發生規模5.3有感地震，最大震度臺東縣長濱4級。\n",
      "10/10-11:37臺東縣近海發生規模4.4有感地震，最大震度臺東縣東河4級。\n",
      "10/10-04:43宜蘭縣近海發生規模4.3有感地震，最大震度花蓮縣和平、宜蘭縣南澳4級。\n",
      "10/10-04:03花蓮縣卓溪鄉發生規模4.3有感地震，最大震度臺東縣海端3級。\n",
      "10/07-22:06花蓮縣卓溪鄉發生規模4.5有感地震，最大震度花蓮縣紅葉4級。\n",
      "10/07-13:13花蓮縣卓溪鄉發生規模4.5有感地震，最大震度花蓮縣紅葉4級。\n",
      "10/03-04:25花蓮縣豐濱鄉發生規模5.3有感地震，最大震度花蓮縣紅葉4級。\n",
      "10/01-03:50花蓮縣卓溪鄉發生規模4.3有感地震，最大震度花蓮縣富里4級。\n"
     ]
    }
   ],
   "source": [
    "cwbkey = os.getenv('cwbkey')\n",
    "r = rq.get('https://opendata.cwb.gov.tw/api/v1/rest/datastore/E-A0015-001?Authorization='+cwbkey).json()\n",
    "a= r['records']['earthquake']\n",
    "for i in a:\n",
    "    t = i['reportContent']\n",
    "    print(t)"
   ]
  },
  {
   "cell_type": "code",
   "execution_count": 2,
   "metadata": {},
   "outputs": [
    {
     "name": "stdout",
     "output_type": "stream",
     "text": [
      "None\n"
     ]
    }
   ],
   "source": []
  }
 ],
 "metadata": {
  "kernelspec": {
   "display_name": "Python 3.10.2 64-bit",
   "language": "python",
   "name": "python3"
  },
  "language_info": {
   "codemirror_mode": {
    "name": "ipython",
    "version": 3
   },
   "file_extension": ".py",
   "mimetype": "text/x-python",
   "name": "python",
   "nbconvert_exporter": "python",
   "pygments_lexer": "ipython3",
   "version": "3.10.2"
  },
  "orig_nbformat": 4,
  "vscode": {
   "interpreter": {
    "hash": "186296d3b5c76cdd6b82511bc2ffb87077c343a4a9623324f67fd598393d5676"
   }
  }
 },
 "nbformat": 4,
 "nbformat_minor": 2
}
